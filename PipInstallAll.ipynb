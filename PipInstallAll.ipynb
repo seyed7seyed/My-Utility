{
 "cells": [
  {
   "cell_type": "code",
   "execution_count": null,
   "id": "f5f1bea1",
   "metadata": {},
   "outputs": [],
   "source": [
    "conda install conda=23.10.0"
   ]
  },
  {
   "cell_type": "code",
   "execution_count": null,
   "id": "35595f80",
   "metadata": {
    "scrolled": true
   },
   "outputs": [],
   "source": [
    "pip install xlrd"
   ]
  },
  {
   "cell_type": "code",
   "execution_count": null,
   "id": "6158126a",
   "metadata": {},
   "outputs": [],
   "source": [
    "pip install xlwt"
   ]
  },
  {
   "cell_type": "code",
   "execution_count": null,
   "id": "ce8bddfc",
   "metadata": {
    "scrolled": true
   },
   "outputs": [],
   "source": [
    "pip install openpyxl"
   ]
  },
  {
   "cell_type": "code",
   "execution_count": null,
   "id": "bccfd6f0",
   "metadata": {},
   "outputs": [],
   "source": [
    "pip install cufflinks"
   ]
  },
  {
   "cell_type": "code",
   "execution_count": null,
   "id": "1f7d2882",
   "metadata": {},
   "outputs": [],
   "source": [
    "pip install sklearn-genetic-opt"
   ]
  },
  {
   "cell_type": "code",
   "execution_count": null,
   "id": "340a197c",
   "metadata": {
    "scrolled": true
   },
   "outputs": [],
   "source": [
    "pip install scikit-optimize"
   ]
  },
  {
   "cell_type": "code",
   "execution_count": null,
   "id": "18cc53dd",
   "metadata": {},
   "outputs": [],
   "source": [
    "pip install sklearn-nature-inspired-algorithms"
   ]
  },
  {
   "cell_type": "code",
   "execution_count": null,
   "id": "b4035e81",
   "metadata": {
    "scrolled": true
   },
   "outputs": [],
   "source": [
    "pip install scikit-fuzzy"
   ]
  },
  {
   "cell_type": "code",
   "execution_count": null,
   "id": "cff9b647",
   "metadata": {
    "scrolled": true
   },
   "outputs": [],
   "source": [
    "pip install fuzzy-logic-toolbox"
   ]
  },
  {
   "cell_type": "code",
   "execution_count": null,
   "id": "dd2d542e",
   "metadata": {},
   "outputs": [],
   "source": [
    "pip install pyinstaller"
   ]
  },
  {
   "cell_type": "code",
   "execution_count": null,
   "id": "2b437c16",
   "metadata": {},
   "outputs": [],
   "source": [
    "pip install xgboost"
   ]
  },
  {
   "cell_type": "code",
   "execution_count": null,
   "id": "f6a63d0b",
   "metadata": {},
   "outputs": [],
   "source": [
    "pip install catboost"
   ]
  },
  {
   "cell_type": "code",
   "execution_count": null,
   "id": "19b3a430",
   "metadata": {},
   "outputs": [],
   "source": [
    "pip install python-tsp"
   ]
  },
  {
   "cell_type": "code",
   "execution_count": null,
   "id": "ff61b6c6",
   "metadata": {
    "scrolled": true
   },
   "outputs": [],
   "source": [
    "pip install sklearn-som"
   ]
  },
  {
   "cell_type": "code",
   "execution_count": null,
   "id": "1dd6addb",
   "metadata": {},
   "outputs": [],
   "source": [
    "pip install auto-py-to-exe"
   ]
  },
  {
   "cell_type": "code",
   "execution_count": null,
   "id": "528f4992",
   "metadata": {},
   "outputs": [],
   "source": [
    "pip install easygui"
   ]
  },
  {
   "cell_type": "code",
   "execution_count": null,
   "id": "7b4cfff0",
   "metadata": {},
   "outputs": [],
   "source": [
    "pip install py2exe"
   ]
  },
  {
   "cell_type": "code",
   "execution_count": null,
   "id": "ebd90384",
   "metadata": {},
   "outputs": [],
   "source": [
    "# DTree_Clf.get_params()\n",
    "# DTree_Clf.get_params().keys()\n",
    "\n",
    "import sklearn\n",
    "print(sklearn.__version__)\n",
    "from sklearn.discriminant_analysis import LinearDiscriminantAnalysis    as LDA\n",
    "from sklearn.discriminant_analysis import QuadraticDiscriminantAnalysis as QDA"
   ]
  },
  {
   "cell_type": "code",
   "execution_count": null,
   "id": "db395dfa",
   "metadata": {},
   "outputs": [],
   "source": [
    "pip install VLAD"
   ]
  },
  {
   "cell_type": "code",
   "execution_count": null,
   "id": "1d6fa105",
   "metadata": {},
   "outputs": [],
   "source": [
    "pip install pyinstaller"
   ]
  },
  {
   "cell_type": "code",
   "execution_count": null,
   "id": "b0bfcc16",
   "metadata": {},
   "outputs": [],
   "source": [
    "pip install tensorflow"
   ]
  },
  {
   "cell_type": "code",
   "execution_count": null,
   "id": "fc7a71d3",
   "metadata": {},
   "outputs": [],
   "source": [
    "pip install anfis"
   ]
  },
  {
   "cell_type": "code",
   "execution_count": null,
   "id": "a1daf635",
   "metadata": {},
   "outputs": [],
   "source": [
    "pip install sanfis"
   ]
  },
  {
   "cell_type": "markdown",
   "id": "3607d22a",
   "metadata": {},
   "source": [
    "## TimeSeries"
   ]
  },
  {
   "cell_type": "code",
   "execution_count": null,
   "id": "ddec5b24",
   "metadata": {},
   "outputs": [],
   "source": [
    "conda install prophet"
   ]
  },
  {
   "cell_type": "code",
   "execution_count": null,
   "id": "cb145219",
   "metadata": {},
   "outputs": [],
   "source": [
    "conda install lightgbm"
   ]
  },
  {
   "cell_type": "code",
   "execution_count": null,
   "id": "f618cb96",
   "metadata": {},
   "outputs": [],
   "source": [
    "pip install pyts"
   ]
  },
  {
   "cell_type": "code",
   "execution_count": null,
   "id": "a4a73835",
   "metadata": {},
   "outputs": [],
   "source": [
    "pip install statsmodels"
   ]
  },
  {
   "cell_type": "code",
   "execution_count": null,
   "id": "ae26019b",
   "metadata": {},
   "outputs": [],
   "source": [
    "pip install pmdarima"
   ]
  },
  {
   "cell_type": "code",
   "execution_count": null,
   "id": "8a347351",
   "metadata": {},
   "outputs": [],
   "source": [
    "###pip install fbprophet"
   ]
  },
  {
   "cell_type": "code",
   "execution_count": null,
   "id": "41e6cc9b",
   "metadata": {},
   "outputs": [],
   "source": [
    "###pip install hyperopt-prophet"
   ]
  },
  {
   "cell_type": "markdown",
   "id": "b8d11359",
   "metadata": {},
   "source": [
    "### "
   ]
  },
  {
   "cell_type": "code",
   "execution_count": null,
   "id": "159c00c5",
   "metadata": {},
   "outputs": [],
   "source": [
    "# pyClarion\n",
    "pip install -e .     # As Developer (recommended)\n",
    "pip install .        # Standard"
   ]
  },
  {
   "cell_type": "code",
   "execution_count": null,
   "id": "066ebda3",
   "metadata": {},
   "outputs": [],
   "source": [
    "pip install mysql"
   ]
  },
  {
   "cell_type": "code",
   "execution_count": null,
   "id": "4ad76144",
   "metadata": {},
   "outputs": [],
   "source": [
    "pip install spark"
   ]
  },
  {
   "cell_type": "code",
   "execution_count": null,
   "id": "8d3a650c",
   "metadata": {},
   "outputs": [],
   "source": [
    "pip install pyspark"
   ]
  },
  {
   "cell_type": "code",
   "execution_count": null,
   "id": "d3494e80",
   "metadata": {},
   "outputs": [],
   "source": [
    "pip install sparkdl"
   ]
  },
  {
   "cell_type": "code",
   "execution_count": null,
   "id": "8f3b7294",
   "metadata": {},
   "outputs": [],
   "source": [
    "conda install scikit-image"
   ]
  },
  {
   "cell_type": "code",
   "execution_count": null,
   "id": "d7bd690d",
   "metadata": {},
   "outputs": [],
   "source": [
    "pip install pydotplus"
   ]
  },
  {
   "cell_type": "code",
   "execution_count": null,
   "id": "40704ece",
   "metadata": {},
   "outputs": [],
   "source": [
    "conda install graphviz"
   ]
  },
  {
   "cell_type": "code",
   "execution_count": null,
   "id": "ec4ee016",
   "metadata": {},
   "outputs": [],
   "source": [
    "pip install pulp"
   ]
  },
  {
   "cell_type": "code",
   "execution_count": null,
   "id": "ce3db0ea",
   "metadata": {},
   "outputs": [],
   "source": [
    "pip install python-tsp"
   ]
  },
  {
   "cell_type": "code",
   "execution_count": null,
   "id": "ddf93af4",
   "metadata": {},
   "outputs": [],
   "source": [
    "pip install scikit-opt==0.3.1"
   ]
  },
  {
   "cell_type": "code",
   "execution_count": null,
   "id": "a88baaaa",
   "metadata": {},
   "outputs": [],
   "source": [
    "pip install tweepy"
   ]
  },
  {
   "cell_type": "code",
   "execution_count": null,
   "id": "7f836245",
   "metadata": {},
   "outputs": [],
   "source": [
    "pip install PyPDF2"
   ]
  },
  {
   "cell_type": "markdown",
   "id": "6dc6e7df",
   "metadata": {},
   "source": [
    "#####   \n",
    "# NLP"
   ]
  },
  {
   "cell_type": "code",
   "execution_count": null,
   "id": "6d71585d",
   "metadata": {},
   "outputs": [],
   "source": [
    "pip install --upgrade nltk"
   ]
  },
  {
   "cell_type": "code",
   "execution_count": null,
   "id": "0d15eea6",
   "metadata": {},
   "outputs": [],
   "source": [
    "import nltk\n",
    "nltk.download('punkt')"
   ]
  },
  {
   "cell_type": "code",
   "execution_count": null,
   "id": "604cf82b",
   "metadata": {},
   "outputs": [],
   "source": [
    "import nltk\n",
    "nltk.download('wordnet')"
   ]
  },
  {
   "cell_type": "code",
   "execution_count": null,
   "id": "edb300ff",
   "metadata": {},
   "outputs": [],
   "source": [
    "import nltk\n",
    "nltk.download('stopwords')"
   ]
  },
  {
   "cell_type": "code",
   "execution_count": null,
   "id": "c8b3f0ed",
   "metadata": {},
   "outputs": [],
   "source": [
    "import nltk\n",
    "nltk.download('averaged_perceptron_tagger')"
   ]
  },
  {
   "cell_type": "code",
   "execution_count": null,
   "id": "f37e89ce",
   "metadata": {},
   "outputs": [],
   "source": [
    "import nltk\n",
    "nltk.download('popular')"
   ]
  },
  {
   "cell_type": "code",
   "execution_count": null,
   "id": "3035c2aa",
   "metadata": {},
   "outputs": [],
   "source": [
    "pip install wordcloud"
   ]
  },
  {
   "cell_type": "code",
   "execution_count": null,
   "id": "5f92bb96",
   "metadata": {},
   "outputs": [],
   "source": [
    "pip install textblob"
   ]
  },
  {
   "cell_type": "code",
   "execution_count": null,
   "id": "b41b559a",
   "metadata": {},
   "outputs": [],
   "source": [
    "pip install vsm   "
   ]
  },
  {
   "cell_type": "markdown",
   "id": "1222a618",
   "metadata": {},
   "source": [
    "# spacy"
   ]
  },
  {
   "cell_type": "code",
   "execution_count": null,
   "id": "a9ea11f6",
   "metadata": {},
   "outputs": [],
   "source": [
    "pip install --upgrade spacy"
   ]
  },
  {
   "cell_type": "code",
   "execution_count": null,
   "id": "e08c118f",
   "metadata": {},
   "outputs": [],
   "source": [
    "import spacy\n",
    "!python -m spacy download en_core_web_sm"
   ]
  },
  {
   "cell_type": "code",
   "execution_count": null,
   "id": "f2fcd4df",
   "metadata": {},
   "outputs": [],
   "source": [
    "nlp = spacy.load('en_core_web_sm')"
   ]
  },
  {
   "cell_type": "markdown",
   "id": "b7b2987b",
   "metadata": {},
   "source": [
    "# Stanford CoreNLP"
   ]
  },
  {
   "cell_type": "code",
   "execution_count": null,
   "id": "733e9fb4",
   "metadata": {},
   "outputs": [],
   "source": [
    "pip install stanfordcorenlp"
   ]
  },
  {
   "cell_type": "markdown",
   "id": "f1ac7693",
   "metadata": {},
   "source": [
    "#####    "
   ]
  },
  {
   "cell_type": "code",
   "execution_count": null,
   "id": "7828aa10",
   "metadata": {},
   "outputs": [],
   "source": [
    "pip install transformers"
   ]
  },
  {
   "cell_type": "code",
   "execution_count": null,
   "id": "a15a9529",
   "metadata": {},
   "outputs": [],
   "source": [
    "pip install apriori-python   # import apriori_python"
   ]
  },
  {
   "cell_type": "code",
   "execution_count": null,
   "id": "b149ce9c",
   "metadata": {},
   "outputs": [],
   "source": [
    "pip install fpgrowth-py"
   ]
  },
  {
   "cell_type": "code",
   "execution_count": null,
   "id": "5bc46187",
   "metadata": {},
   "outputs": [],
   "source": [
    "pip install mlxtend"
   ]
  },
  {
   "cell_type": "markdown",
   "id": "8de51b7d",
   "metadata": {},
   "source": [
    "# pyinstaller"
   ]
  },
  {
   "cell_type": "code",
   "execution_count": 1,
   "id": "a165a5bb",
   "metadata": {},
   "outputs": [],
   "source": [
    "pip install --upgrade pyinstaller"
   ]
  },
  {
   "cell_type": "markdown",
   "id": "3554896f",
   "metadata": {},
   "source": [
    "To convert a Tkinter application into an installable app, you can use a Python library called \"pyinstaller\". Pyinstaller is a packaging tool that can bundle a Python application, along with any dependencies, into a stand-alone executable file.\n",
    "\n",
    "Here are the general steps to convert a Tkinter application into an installable app using pyinstaller:\n",
    "\n",
    "1. Install the latest version of Python and the necessary libraries, including Tkinter and other libraries you are using in your application.\n",
    "2. Write the code for your Tkinter application.\n",
    "3. Make sure that your code works as intended and that your application is functional when run through the Python interpreter.\n",
    "4. Install the latest version of pyinstaller.\n",
    "5. In the command prompt, navigate to the directory that contains your application source codes.\n",
    "6. Use the following command to create an executable file that includes your application:\n",
    "\n",
    "```python\n",
    "pyinstaller --onefile --windowed --name your_app_name your_app_name.py\n",
    "```\n",
    "Replace `your_app_name.py` with the name of your Tkinter application file, and `your_app_name` with the name you want for the executable file.\n",
    "\n",
    "7. The pyinstaller tool will bundle your application and its dependencies into a single executable file. This file can be shipped to end-users and run without requiring installation of any additional dependencies.\n",
    "\n",
    "Keep in mind that creating an executable file may not always be necessary, and other deployment options may be available depending on your specific needs and requirements. However, if you need to distribute your Tkinter application to end-users who do not have Python installed on their system, using pyinstaller to create an executable file is a common and effective option."
   ]
  },
  {
   "cell_type": "markdown",
   "id": "bb8ca696",
   "metadata": {},
   "source": [
    "#####   "
   ]
  },
  {
   "cell_type": "code",
   "execution_count": null,
   "id": "83bd9c3f",
   "metadata": {},
   "outputs": [],
   "source": [
    "pip install --upgrade beautifulsoup4"
   ]
  },
  {
   "cell_type": "code",
   "execution_count": null,
   "id": "fa22f385",
   "metadata": {},
   "outputs": [],
   "source": [
    "pip install --upgrade requests"
   ]
  },
  {
   "cell_type": "code",
   "execution_count": null,
   "id": "808d2a85",
   "metadata": {},
   "outputs": [],
   "source": []
  },
  {
   "cell_type": "code",
   "execution_count": null,
   "id": "139fdca8",
   "metadata": {},
   "outputs": [],
   "source": []
  },
  {
   "cell_type": "code",
   "execution_count": null,
   "id": "0d96047b",
   "metadata": {},
   "outputs": [],
   "source": []
  },
  {
   "cell_type": "code",
   "execution_count": null,
   "id": "ca5f8ad9",
   "metadata": {},
   "outputs": [],
   "source": []
  },
  {
   "cell_type": "code",
   "execution_count": null,
   "id": "1db76138",
   "metadata": {},
   "outputs": [],
   "source": []
  }
 ],
 "metadata": {
  "kernelspec": {
   "display_name": "Python 3 (ipykernel)",
   "language": "python",
   "name": "python3"
  },
  "language_info": {
   "codemirror_mode": {
    "name": "ipython",
    "version": 3
   },
   "file_extension": ".py",
   "mimetype": "text/x-python",
   "name": "python",
   "nbconvert_exporter": "python",
   "pygments_lexer": "ipython3",
   "version": "3.10.13"
  }
 },
 "nbformat": 4,
 "nbformat_minor": 5
}
